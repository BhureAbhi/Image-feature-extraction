{
 "cells": [
  {
   "cell_type": "code",
   "execution_count": 10,
   "metadata": {
    "collapsed": true
   },
   "outputs": [],
   "source": [
    "import scipy.io\n",
    "#mat = scipy.io.loadmat('n01968897.sbow.mat')\n",
    "#i=0\n",
    "#print((mat['image_sbow'][i][0][1][0][0][0][0]))"
   ]
  },
  {
   "cell_type": "code",
   "execution_count": 11,
   "metadata": {
    "collapsed": true
   },
   "outputs": [],
   "source": [
    "with open(\"imagenetdict\",\"r\") as r:\n",
    "    content = r.readlines()\n",
    "    content = [x.strip() for x in content]\n",
    "    li = []\n",
    "    for i in range(0,1000):\n",
    "        li.append(content[i][0:9])"
   ]
  },
  {
   "cell_type": "code",
   "execution_count": 12,
   "metadata": {
    "collapsed": true
   },
   "outputs": [],
   "source": [
    "def findLabel(imgname):\n",
    "    return li.index(imgname)"
   ]
  },
  {
   "cell_type": "code",
   "execution_count": 13,
   "metadata": {
    "collapsed": true
   },
   "outputs": [],
   "source": [
    "def createbow(a):\n",
    "    b=[0 for i in range (0,1000)]\n",
    "    for j in range (len(a)):\n",
    "        b[a[j]]+=1\n",
    "    return b"
   ]
  },
  {
   "cell_type": "code",
   "execution_count": 14,
   "metadata": {
    "collapsed": true
   },
   "outputs": [],
   "source": [
    "def loadSbowMat(fname):\n",
    "    classMat = []\n",
    "    sbowmat = scipy.io.loadmat(fname)\n",
    "    sbowmat = sbowmat['image_sbow']\n",
    "    for i in range(0,len(sbowmat)):\n",
    "        classLabel = findLabel(sbowmat[i][0][0][0][0:9])\n",
    "        bow = createbow(sbowmat[i][0][1][0][0][0][0])\n",
    "        classMat.append([bow,classLabel])\n",
    "    return classMat"
   ]
  },
  {
   "cell_type": "code",
   "execution_count": 15,
   "metadata": {
    "collapsed": true
   },
   "outputs": [],
   "source": [
    "import os\n",
    "rootdir = '/home/sumit/machine_learning/research_project/sbow/'\n",
    "sbowMatPaths=[]\n",
    "for subdir,dirs,files in os.walk(rootdir):\n",
    "    for file in files:\n",
    "        sbowMatPaths.append(os.path.join(subdir, file))"
   ]
  },
  {
   "cell_type": "code",
   "execution_count": 16,
   "metadata": {
    "collapsed": true
   },
   "outputs": [],
   "source": [
    "ImageNet=[]\n",
    "for sbowMatFile in sbowMatPaths:\n",
    "    ImageNet += loadSbowMat(sbowMatFile)"
   ]
  },
  {
   "cell_type": "code",
   "execution_count": 17,
   "metadata": {},
   "outputs": [
    {
     "name": "stdout",
     "output_type": "stream",
     "text": [
      "2\n"
     ]
    }
   ],
   "source": [
    "print(len(ImageNet[0]))"
   ]
  },
  {
   "cell_type": "code",
   "execution_count": 11,
   "metadata": {
    "collapsed": true
   },
   "outputs": [],
   "source": [
    "sizes=[]\n",
    "for fname in sbowMatPaths:\n",
    "    sbowmat = scipy.io.loadmat(fname)\n",
    "    sbowmat = sbowmat['image_sbow']\n",
    "    sizes.append([len(sbowmat),findLabel(sbowmat[0][0][0][0][0:9])])"
   ]
  },
  {
   "cell_type": "code",
   "execution_count": 17,
   "metadata": {
    "collapsed": true
   },
   "outputs": [],
   "source": [
    "#print(sorted(sizes, key = lambda x:x[1]))"
   ]
  },
  {
   "cell_type": "code",
   "execution_count": 18,
   "metadata": {
    "collapsed": true
   },
   "outputs": [],
   "source": [
    "import csv\n",
    "with open('imageNet.csv', 'w') as wf:\n",
    "    w = csv.writer(wf)\n",
    "    for row in ImageNet:\n",
    "        l = []\n",
    "        l+=row[0]\n",
    "        l.append(row[1])\n",
    "        w.writerow(l)"
   ]
  },
  {
   "cell_type": "code",
   "execution_count": 2,
   "metadata": {},
   "outputs": [],
   "source": [
    "matrix=[]\n",
    "mat2=[]\n",
    "import csv\n",
    "with open('imageNet.csv', \"r\") as fi:\n",
    "    reader = csv.reader(fi)\n",
    "    for row in reader:\n",
    "        l=[]\n",
    "        for i in range(0,1000):\n",
    "            l.append(int(row[i]))\n",
    "        matrix.append(l)\n",
    "        mat2.append(row[1000])"
   ]
  },
  {
   "cell_type": "code",
   "execution_count": null,
   "metadata": {
    "collapsed": true
   },
   "outputs": [],
   "source": [
    "from sklearn.neighbors import NearestNeighbors\n",
    "import numpy as np\n",
    "\n",
    "nbrs = NearestNeighbors(n_neighbors=6).fit(matrix)"
   ]
  }
 ],
 "metadata": {
  "kernelspec": {
   "display_name": "Python 3",
   "language": "python",
   "name": "python3"
  },
  "language_info": {
   "codemirror_mode": {
    "name": "ipython",
    "version": 3
   },
   "file_extension": ".py",
   "mimetype": "text/x-python",
   "name": "python",
   "nbconvert_exporter": "python",
   "pygments_lexer": "ipython3",
   "version": "3.5.3"
  }
 },
 "nbformat": 4,
 "nbformat_minor": 1
}
