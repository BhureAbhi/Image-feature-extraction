{
 "cells": [
  {
   "cell_type": "code",
   "execution_count": 1,
   "metadata": {
    "collapsed": false
   },
   "outputs": [
    {
     "name": "stderr",
     "output_type": "stream",
     "text": [
      "Using TensorFlow backend.\n"
     ]
    }
   ],
   "source": [
    "from __future__ import print_function\n",
    "import keras\n",
    "from keras.datasets import cifar100\n",
    "from keras.preprocessing.image import ImageDataGenerator\n",
    "from keras.models import Sequential\n",
    "from keras.layers import Dense, Dropout, Activation, Flatten\n",
    "from keras.layers import Conv2D, MaxPooling2D, ZeroPadding2D\n",
    "import numpy as np\n",
    "import os\n",
    "from keras import applications\n",
    "from keras.optimizers import SGD\n",
    "from keras import optimizers\n",
    "\n",
    "from keras.layers import Dropout, Flatten, Dense"
   ]
  },
  {
   "cell_type": "code",
   "execution_count": 2,
   "metadata": {
    "collapsed": false
   },
   "outputs": [
    {
     "name": "stdout",
     "output_type": "stream",
     "text": [
      "x_train shape: (50000, 32, 32, 3)\n",
      "50000 train samples\n",
      "10000 test samples\n"
     ]
    }
   ],
   "source": [
    "batch_size = 32\n",
    "num_classes = 100\n",
    "epochs = 1\n",
    "data_augmentation = True\n",
    "num_predictions = 20\n",
    "save_dir = os.path.join(os.getcwd(), 'saved_models')\n",
    "model_name = 'keras_cifar100_trained_model_epoch1.h5'\n",
    "\n",
    "# The data, shuffled and split between train and test sets:\n",
    "(x_train, y_train), (x_test, y_test) = cifar100.load_data()\n",
    "print('x_train shape:', x_train.shape)\n",
    "print(x_train.shape[0], 'train samples')\n",
    "print(x_test.shape[0], 'test samples')\n",
    "\n",
    "# Convert class vectors to binary class matrices.\n",
    "y_train = keras.utils.to_categorical(y_train, num_classes)\n",
    "y_test = keras.utils.to_categorical(y_test, num_classes)"
   ]
  },
  {
   "cell_type": "code",
   "execution_count": 7,
   "metadata": {
    "collapsed": true
   },
   "outputs": [],
   "source": [
    "def createModel(weights_path=None):\n",
    "    model = Sequential()\n",
    "    model.add(Conv2D(32, (3, 3), padding='same',\n",
    "                     input_shape=x_train.shape[1:]))\n",
    "    model.add(Activation('relu'))\n",
    "    model.add(Conv2D(32, (3, 3)))\n",
    "    model.add(Activation('relu'))\n",
    "    model.add(MaxPooling2D(pool_size=(2, 2)))\n",
    "    model.add(Dropout(0.25))\n",
    "\n",
    "    model.add(Conv2D(64, (3, 3), padding='same'))\n",
    "    model.add(Activation('relu'))\n",
    "    model.add(Conv2D(64, (3, 3)))\n",
    "    model.add(Activation('relu'))\n",
    "    model.add(MaxPooling2D(pool_size=(2, 2)))\n",
    "    model.add(Dropout(0.25))\n",
    "\n",
    "    model.add(Flatten())\n",
    "    model.add(Dense(1000))\n",
    "    model.add(Activation('relu'))\n",
    "    model.add(Dropout(0.5))\n",
    "    model.add(Dense(num_classes))\n",
    "    model.add(Activation('softmax'))\n",
    "    \n",
    "    if weights_path:\n",
    "        model.load_weights(weights_path)\n",
    "\n",
    "    return model"
   ]
  },
  {
   "cell_type": "code",
   "execution_count": 4,
   "metadata": {
    "collapsed": false
   },
   "outputs": [
    {
     "name": "stdout",
     "output_type": "stream",
     "text": [
      "Using real-time data augmentation.\n",
      "Epoch 1/1\n",
      "1563/1563 [==============================] - 414s 265ms/step - loss: 4.2714 - acc: 0.0514 - val_loss: 3.9203 - val_acc: 0.1154\n"
     ]
    }
   ],
   "source": [
    "# initiate RMSprop optimizer\n",
    "opt = keras.optimizers.rmsprop(lr=0.0001, decay=1e-6)\n",
    "\n",
    "# Let's train the model using RMSprop\n",
    "model.compile(loss='categorical_crossentropy',\n",
    "              optimizer=opt,\n",
    "              metrics=['accuracy'])\n",
    "\n",
    "x_train = x_train.astype('float32')\n",
    "x_test = x_test.astype('float32')\n",
    "x_train /= 255\n",
    "x_test /= 255\n",
    "\n",
    "if not data_augmentation:\n",
    "    print('Not using data augmentation.')\n",
    "    model.fit(x_train, y_train,\n",
    "              batch_size=batch_size,\n",
    "              epochs=epochs,\n",
    "              validation_data=(x_test, y_test),\n",
    "              shuffle=True)\n",
    "else:\n",
    "    print('Using real-time data augmentation.')\n",
    "    # This will do preprocessing and realtime data augmentation:\n",
    "    datagen = ImageDataGenerator(\n",
    "        featurewise_center=False,  # set input mean to 0 over the dataset\n",
    "        samplewise_center=False,  # set each sample mean to 0\n",
    "        featurewise_std_normalization=False,  # divide inputs by std of the dataset\n",
    "        samplewise_std_normalization=False,  # divide each input by its std\n",
    "        zca_whitening=False,  # apply ZCA whitening\n",
    "        rotation_range=0,  # randomly rotate images in the range (degrees, 0 to 180)\n",
    "        width_shift_range=0.1,  # randomly shift images horizontally (fraction of total width)\n",
    "        height_shift_range=0.1,  # randomly shift images vertically (fraction of total height)\n",
    "        horizontal_flip=True,  # randomly flip images\n",
    "        vertical_flip=False)  # randomly flip images\n",
    "\n",
    "    # Compute quantities required for feature-wise normalization\n",
    "    # (std, mean, and principal components if ZCA whitening is applied).\n",
    "    datagen.fit(x_train)\n",
    "\n",
    "    # Fit the model on the batches generated by datagen.flow().\n",
    "    model.fit_generator(datagen.flow(x_train, y_train,\n",
    "                                     batch_size=batch_size),\n",
    "                        steps_per_epoch=int(np.ceil(x_train.shape[0] / float(batch_size))),\n",
    "                        epochs=epochs,\n",
    "                        validation_data=(x_test, y_test),\n",
    "                        workers=4)\n"
   ]
  },
  {
   "cell_type": "code",
   "execution_count": 5,
   "metadata": {
    "collapsed": false
   },
   "outputs": [
    {
     "name": "stdout",
     "output_type": "stream",
     "text": [
      "Saved trained model at /home/abhijeet/Project/saved_models/keras_cifar100_trained_model_epoch1.h5 \n",
      "10000/10000 [==============================] - 19s 2ms/step\n",
      "Test loss: 3.92033613968\n",
      "Test accuracy: 0.1154\n"
     ]
    }
   ],
   "source": [
    "# Save model and weights\n",
    "if not os.path.isdir(save_dir):\n",
    "    os.makedirs(save_dir)\n",
    "model_path = os.path.join(save_dir, model_name)\n",
    "model.save(model_path)\n",
    "print('Saved trained model at %s ' % model_path)\n",
    "\n",
    "# Score trained model.\n",
    "scores = model.evaluate(x_test, y_test, verbose=1)\n",
    "print('Test loss:', scores[0])\n",
    "\n",
    "print('Test accuracy:', scores[1])"
   ]
  },
  {
   "cell_type": "code",
   "execution_count": 11,
   "metadata": {
    "collapsed": false
   },
   "outputs": [
    {
     "data": {
      "text/plain": [
       "array([[ 0.00541702,  0.00277987,  0.00546529,  0.01433949,  0.01125209,\n",
       "         0.01492464,  0.00709548,  0.01046569,  0.0124661 ,  0.01277787,\n",
       "         0.00883815,  0.00814573,  0.00811636,  0.01905369,  0.00588235,\n",
       "         0.02085546,  0.01123789,  0.02691448,  0.00829679,  0.01795888,\n",
       "         0.00523904,  0.01444212,  0.01037069,  0.00276732,  0.00554867,\n",
       "         0.01295475,  0.0068991 ,  0.01017849,  0.00336795,  0.01119657,\n",
       "         0.00130839,  0.02645201,  0.01253734,  0.01115264,  0.00655399,\n",
       "         0.00687936,  0.0054838 ,  0.02609635,  0.01178256,  0.00551217,\n",
       "         0.00773937,  0.01604952,  0.00654221,  0.00808423,  0.00754214,\n",
       "         0.00625899,  0.00706197,  0.01925762,  0.01195258,  0.00433882,\n",
       "         0.00588741,  0.00898077,  0.0236123 ,  0.00221163,  0.00696301,\n",
       "         0.00785017,  0.01294327,  0.01227016,  0.01020146,  0.01418163,\n",
       "         0.01839999,  0.00441614,  0.00167953,  0.01077205,  0.00589135,\n",
       "         0.00682825,  0.00728435,  0.00276679,  0.00835427,  0.00349031,\n",
       "         0.00260449,  0.00572791,  0.00742956,  0.00127872,  0.01389767,\n",
       "         0.00833393,  0.00481056,  0.01059833,  0.01067286,  0.00848471,\n",
       "         0.01426717,  0.01961618,  0.00225901,  0.00389739,  0.00936394,\n",
       "         0.04043741,  0.01021123,  0.01179129,  0.00803861,  0.02091295,\n",
       "         0.02195116,  0.00997766,  0.0030106 ,  0.00484789,  0.00813622,\n",
       "         0.00139685,  0.01964896,  0.00536043,  0.00806557,  0.00415178]], dtype=float32)"
      ]
     },
     "execution_count": 11,
     "metadata": {},
     "output_type": "execute_result"
    }
   ],
   "source": [
    "model.predict(x_train[0:1])"
   ]
  },
  {
   "cell_type": "code",
   "execution_count": 38,
   "metadata": {
    "collapsed": true
   },
   "outputs": [],
   "source": [
    "modelCopy = createModel('saved_models/keras_cifar100_trained_model.h5')"
   ]
  },
  {
   "cell_type": "code",
   "execution_count": 39,
   "metadata": {
    "collapsed": false
   },
   "outputs": [],
   "source": [
    "predictor = Sequential()\n",
    "predictor.add(Conv2D(32, (3, 3), padding='same',\n",
    "                 input_shape=x_train.shape[1:], weights = modelCopy.layers[0].get_weights()))\n",
    "predictor.add(Activation('relu'))\n",
    "predictor.add(Conv2D(32, (3, 3), weights=modelCopy.layers[2].get_weights()))\n",
    "predictor.add(Activation('relu'))\n",
    "predictor.add(MaxPooling2D(pool_size=(2, 2)))\n",
    "predictor.add(Dropout(0.25))\n",
    "\n",
    "predictor.add(Conv2D(64, (3, 3), padding='same', weights=modelCopy.layers[6].get_weights()))\n",
    "predictor.add(Activation('relu'))\n",
    "predictor.add(Conv2D(64, (3, 3), weights=modelCopy.layers[8].get_weights()))\n",
    "predictor.add(Activation('relu'))\n",
    "predictor.add(MaxPooling2D(pool_size=(2, 2)))\n",
    "predictor.add(Dropout(0.25))\n",
    "\n",
    "predictor.add(Flatten())\n",
    "predictor.add(Dense(1000, weights=modelCopy.layers[13].get_weights()))\n",
    "predictor.add(Activation('relu'))\n",
    "# predictor created."
   ]
  },
  {
   "cell_type": "code",
   "execution_count": 65,
   "metadata": {
    "collapsed": false
   },
   "outputs": [
    {
     "name": "stdout",
     "output_type": "stream",
     "text": [
      "[ 0.  0.  0.  0.  0.  0.  0.  0.  0.  0.  0.  0.  0.  0.  0.  0.  0.  0.\n",
      "  0.  1.  0.  0.  0.  0.  0.  0.  0.  0.  0.  0.  0.  0.  0.  0.  0.  0.\n",
      "  0.  0.  0.  0.  0.  0.  0.  0.  0.  0.  0.  0.  0.  0.  0.  0.  0.  0.\n",
      "  0.  0.  0.  0.  0.  0.  0.  0.  0.  0.  0.  0.  0.  0.  0.  0.  0.  0.\n",
      "  0.  0.  0.  0.  0.  0.  0.  0.  0.  0.  0.  0.  0.  0.  0.  0.  0.  0.\n",
      "  0.  0.  0.  0.  0.  0.  0.  0.  0.  0.]\n"
     ]
    }
   ],
   "source": [
    "#len(predictor.predict(x_train[0:1])[0])\n",
    "print(y_train[0])"
   ]
  },
  {
   "cell_type": "code",
   "execution_count": 66,
   "metadata": {
    "collapsed": false
   },
   "outputs": [],
   "source": [
    "deepFeatures = []\n",
    "respClass = []\n",
    "for i in range(0,50000):\n",
    "    deepFeatures.append(predictor.predict(x_train[i:i+1])[0])\n",
    "    for j in range(0,100):\n",
    "        if(y_train[i][j]==1):\n",
    "            respClass.append(j)\n",
    "            break\n"
   ]
  },
  {
   "cell_type": "code",
   "execution_count": 74,
   "metadata": {
    "collapsed": false
   },
   "outputs": [
    {
     "data": {
      "text/plain": [
       "NearestNeighbors(algorithm='auto', leaf_size=30, metric='minkowski',\n",
       "         metric_params=None, n_jobs=1, n_neighbors=6, p=2, radius=1.0)"
      ]
     },
     "execution_count": 74,
     "metadata": {},
     "output_type": "execute_result"
    }
   ],
   "source": [
    "from sklearn.neighbors import NearestNeighbors\n",
    "\n",
    "\n",
    "neigh = NearestNeighbors(n_neighbors=6)\n",
    "neigh.fit(deepFeatures)"
   ]
  },
  {
   "cell_type": "code",
   "execution_count": null,
   "metadata": {
    "collapsed": false
   },
   "outputs": [],
   "source": [
    "acc=[]\n",
    "for i in range(0,50000):\n",
    "    idxl = neigh.kneighbors([deepFeatures[i]], return_distance=False)\n",
    "    ct=0\n",
    "    idxl = idxl[0]\n",
    "    #print(\"k\")\n",
    "    #print(respClass[i])\n",
    "    for j in range(1,6):     \n",
    "        #print(respClass[idxl[j]])\n",
    "        if(respClass[idxl[j]]==respClass[i]):\n",
    "            ct+=1\n",
    "    acc.append(ct)"
   ]
  },
  {
   "cell_type": "code",
   "execution_count": 121,
   "metadata": {
    "collapsed": false
   },
   "outputs": [
    {
     "data": {
      "text/plain": [
       "[1, 5, 0, 3, 2, 0, 0, 2, 2, 3]"
      ]
     },
     "execution_count": 121,
     "metadata": {},
     "output_type": "execute_result"
    }
   ],
   "source": [
    "acc"
   ]
  },
  {
   "cell_type": "code",
   "execution_count": 91,
   "metadata": {
    "collapsed": false
   },
   "outputs": [],
   "source": [
    "from sklearn.neighbors import NearestNeighbors\n",
    "\n",
    "samples=[]\n",
    "samples.append([1,1])\n",
    "samples.append([2,2])\n",
    "samples.append([3,3])\n",
    "samples.append([4,4])\n",
    "samples.append([5,5])\n",
    "ne = NearestNeighbors(n_neighbors=3)\n",
    "ne.fit(samples)\n",
    "idx = ne.kneighbors([[2,2]], return_distance=False)"
   ]
  },
  {
   "cell_type": "code",
   "execution_count": 101,
   "metadata": {
    "collapsed": false
   },
   "outputs": [
    {
     "name": "stdout",
     "output_type": "stream",
     "text": [
      "1\n"
     ]
    }
   ],
   "source": [
    "print(idx[0][0])"
   ]
  },
  {
   "cell_type": "code",
   "execution_count": null,
   "metadata": {
    "collapsed": true
   },
   "outputs": [],
   "source": []
  }
 ],
 "metadata": {
  "kernelspec": {
   "display_name": "Python 3",
   "language": "python",
   "name": "python3"
  },
  "language_info": {
   "codemirror_mode": {
    "name": "ipython",
    "version": 3
   },
   "file_extension": ".py",
   "mimetype": "text/x-python",
   "name": "python",
   "nbconvert_exporter": "python",
   "pygments_lexer": "ipython3",
   "version": "3.5.3"
  }
 },
 "nbformat": 4,
 "nbformat_minor": 0
}
