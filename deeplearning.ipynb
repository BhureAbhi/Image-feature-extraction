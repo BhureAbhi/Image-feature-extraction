{
 "cells": [
  {
   "cell_type": "markdown",
   "metadata": {},
   "source": [
    "### Current"
   ]
  },
  {
   "cell_type": "code",
   "execution_count": 40,
   "metadata": {},
   "outputs": [
    {
     "name": "stdout",
     "output_type": "stream",
     "text": [
      "254\n",
      "1801\n",
      "[[48, 51, 44, 42, 69], [287, 438, 299, 464, 313]]\n"
     ]
    }
   ],
   "source": [
    "import os\n",
    "import cv2\n",
    "import numpy as np\n",
    "\n",
    "rootdir = '/home/sumit/machine_learning/research_project/images/'\n",
    "training_paths=[]\n",
    "for subdir,dirs,files in os.walk(rootdir):\n",
    "    for file in files:\n",
    "        training_paths.append(os.path.join(subdir, file))\n",
    "\n",
    "dictionarySize = 5\n",
    "\n",
    "BOW = cv2.BOWKMeansTrainer(dictionarySize)\n",
    "\n",
    "for p in training_paths:\n",
    "    image = cv2.imread(p)\n",
    "    gray = cv2.cvtColor(image, cv2.COLOR_BGR2GRAY)\n",
    "    sift = cv2.xfeatures2d.SIFT_create()\n",
    "    kp, dsc= sift.detectAndCompute(gray, None)\n",
    "    print(len(dsc))\n",
    "    BOW.add(dsc)\n",
    "\n",
    "\n",
    "dictionary = BOW.cluster()\n",
    "\n",
    "l=[]\n",
    "for p in training_paths:\n",
    "    image = cv2.imread(p)\n",
    "    gray = cv2.cvtColor(image, cv2.COLOR_BGR2GRAY)\n",
    "    sift = cv2.xfeatures2d.SIFT_create()\n",
    "    kp, dsc= sift.detectAndCompute(gray, None)\n",
    "    \n",
    "    a=[0,0,0,0,0]\n",
    "    for x in range(len(dsc)):\n",
    "        mi=1000000000000000000000000000000\n",
    "        t=-1\n",
    "        for y in range(len(dictionary)):\n",
    "            dis= np.linalg.norm(dsc[x]-dictionary[y])\n",
    "            if(mi>dis):\n",
    "                mi=dis\n",
    "                t=y\n",
    "        a[t]+=1\n",
    "    l.append(a)\n",
    "    \n",
    "print(l)\n"
   ]
  },
  {
   "cell_type": "code",
   "execution_count": null,
   "metadata": {
    "collapsed": true
   },
   "outputs": [],
   "source": []
  }
 ],
 "metadata": {
  "kernelspec": {
   "display_name": "Python 3",
   "language": "python",
   "name": "python3"
  },
  "language_info": {
   "codemirror_mode": {
    "name": "ipython",
    "version": 3
   },
   "file_extension": ".py",
   "mimetype": "text/x-python",
   "name": "python",
   "nbconvert_exporter": "python",
   "pygments_lexer": "ipython3",
   "version": "3.5.3"
  }
 },
 "nbformat": 4,
 "nbformat_minor": 2
}
